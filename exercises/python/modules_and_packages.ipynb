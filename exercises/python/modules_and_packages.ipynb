{
  "cells": [
    {
      "cell_type": "markdown",
      "id": "bibliographic-edward",
      "metadata": {
        "id": "bibliographic-edward"
      },
      "source": [
        "# Modules and Packages"
      ]
    },
    {
      "cell_type": "markdown",
      "id": "actual-chinese",
      "metadata": {
        "id": "actual-chinese"
      },
      "source": [
        "## os\n",
        "Write a Python program to print the list of files in the current folder and their absolute path."
      ]
    },
    {
      "cell_type": "code",
      "execution_count": 6,
      "id": "tender-colombia",
      "metadata": {
        "id": "tender-colombia",
        "outputId": "0ae46c70-8e30-4b8c-ba92-25c919485282",
        "colab": {
          "base_uri": "https://localhost:8080/"
        }
      },
      "outputs": [
        {
          "output_type": "stream",
          "name": "stdout",
          "text": [
            "/content/sample_data\n"
          ]
        }
      ],
      "source": [
        "import os\n",
        "current_directory = os.getcwd()\n",
        "files = os.listdir(current_directory)\n",
        "for file in files:\n",
        "  absolute_path = os.path.join(current_directory, file)\n",
        "  if os.path.isfile(absolute_path):\n",
        "    print(absolute_path)\n",
        "print(absolute_path)"
      ]
    },
    {
      "cell_type": "markdown",
      "id": "burning-montreal",
      "metadata": {
        "id": "burning-montreal"
      },
      "source": [
        "## math\n",
        "Write a Python program that finds the maximum of log$_2 10000$ and $ e^e $."
      ]
    },
    {
      "cell_type": "code",
      "execution_count": 9,
      "id": "saved-craft",
      "metadata": {
        "id": "saved-craft",
        "outputId": "2fbbf47b-c027-4313-e98d-8edf1b5df147",
        "colab": {
          "base_uri": "https://localhost:8080/"
        }
      },
      "outputs": [
        {
          "output_type": "stream",
          "name": "stdout",
          "text": [
            "log2(10000): 13.287712379549449\n",
            "e: 2.718281828459045\n",
            "maximum value is: 13.287712379549449\n"
          ]
        }
      ],
      "source": [
        "import math\n",
        "log_value = math.log2(10000)\n",
        "e_value = math.e\n",
        "maximum_value = max(log_value, e_value)\n",
        "print(f\"log2(10000): {log_value}\")\n",
        "print(f\"e: {e_value}\")\n",
        "print(f\"maximum value is: {maximum_value}\")"
      ]
    },
    {
      "cell_type": "markdown",
      "id": "opponent-morning",
      "metadata": {
        "id": "opponent-morning"
      },
      "source": [
        "## random\n",
        "Write a Python function that takes a probability between 0.0 and 1.0 and returns `True` with that probability. For example, if the input probability is 0.3, the function should return `True` in the 30\\% of times and `False` in the 70\\% of times."
      ]
    },
    {
      "cell_type": "code",
      "execution_count": 19,
      "id": "global-alpha",
      "metadata": {
        "id": "global-alpha",
        "outputId": "de4396fd-0d4a-4253-f721-7dfa165d1c86",
        "colab": {
          "base_uri": "https://localhost:8080/"
        }
      },
      "outputs": [
        {
          "output_type": "stream",
          "name": "stdout",
          "text": [
            "None\n"
          ]
        }
      ],
      "source": [
        "import random\n",
        "def probability_descision (probability):\n",
        "  if not 0.0 <= probability <= 1.0:\n",
        "    #raise ValueError(\"probability must be beetween 0.0 and 1.00\")\n",
        "    return random.random() < probability\n",
        "print(probability_descision(0.3))"
      ]
    },
    {
      "cell_type": "code",
      "source": [
        "import random\n",
        "def probability_descision (probability):\n",
        "  # Check if probability is within the valid range (0.0 to 1.0)\n",
        "  if 0.0 <= probability <= 1.0:\n",
        "    # If within range, return True with the given probability\n",
        "    return random.random() < probability\n",
        "  else:\n",
        "    # If outside range, return False\n",
        "    return False\n",
        "print(probability_descision(0.3))"
      ],
      "metadata": {
        "id": "N8sGJU9E6wUC",
        "outputId": "bebb2471-6ad9-43a0-b877-2e93f228da99",
        "colab": {
          "base_uri": "https://localhost:8080/"
        }
      },
      "id": "N8sGJU9E6wUC",
      "execution_count": 20,
      "outputs": [
        {
          "output_type": "stream",
          "name": "stdout",
          "text": [
            "False\n"
          ]
        }
      ]
    },
    {
      "cell_type": "markdown",
      "id": "novel-rotation",
      "metadata": {
        "id": "novel-rotation"
      },
      "source": [
        "## pickle\n",
        "Write a Python program to store a dictionary on the hard disk and load it again."
      ]
    },
    {
      "cell_type": "code",
      "execution_count": 21,
      "id": "convinced-fault",
      "metadata": {
        "id": "convinced-fault",
        "outputId": "962eb386-8fd2-41ba-cb4d-c60be4a951f3",
        "colab": {
          "base_uri": "https://localhost:8080/"
        }
      },
      "outputs": [
        {
          "output_type": "stream",
          "name": "stdout",
          "text": [
            "Loaded_student: {'name': 'romina', 'module': 'AI and Application', 'grade': 90}\n"
          ]
        }
      ],
      "source": [
        "import pickle\n",
        "student ={\"name\" : \"romina\", \"module\" : \"AI and Application\", \"grade\" : 90}\n",
        "with open(\"student.pkl\", \"wb\") as file:\n",
        "  pickle.dump(student, file)\n",
        "with open(\"student.pkl\", \"rb\") as file:\n",
        "  loaded_student = pickle.load(file)\n",
        "print(\"Loaded_student:\", loaded_student)"
      ]
    },
    {
      "cell_type": "markdown",
      "id": "scientific-timer",
      "metadata": {
        "id": "scientific-timer"
      },
      "source": [
        "## json\n",
        "Write a Python program to store a dictionary as a json file on the hard disk and load it again."
      ]
    },
    {
      "cell_type": "code",
      "execution_count": 22,
      "id": "western-resident",
      "metadata": {
        "id": "western-resident",
        "outputId": "18bf1c14-e25c-4f64-97db-a5f723521243",
        "colab": {
          "base_uri": "https://localhost:8080/"
        }
      },
      "outputs": [
        {
          "output_type": "stream",
          "name": "stdout",
          "text": [
            "Loaded_student: {'name': 'romina', 'module': 'AI and Application', 'grade': 90}\n"
          ]
        }
      ],
      "source": [
        "import json\n",
        "student ={\"name\" : \"romina\", \"module\" : \"AI and Application\", \"grade\" : 90}\n",
        "with open(\"student.json\", \"w\") as file:\n",
        "  json.dump(student, file)\n",
        "with open(\"student.json\", \"r\") as file:\n",
        "  loaded_student = json.load(file)\n",
        "print(\"Loaded_student:\", loaded_student)"
      ]
    },
    {
      "cell_type": "markdown",
      "id": "hidden-quick",
      "metadata": {
        "id": "hidden-quick"
      },
      "source": [
        "## re\n",
        "Write a function that takes a string as input and returns `True` if the format of the string matches the format of an email address."
      ]
    },
    {
      "cell_type": "code",
      "execution_count": 29,
      "id": "cloudy-visiting",
      "metadata": {
        "id": "cloudy-visiting",
        "outputId": "55b7eae6-d8e7-46b2-f038-f2262eb8ce7e",
        "colab": {
          "base_uri": "https://localhost:8080/"
        }
      },
      "outputs": [
        {
          "output_type": "stream",
          "name": "stdout",
          "text": [
            "True\n",
            "True\n"
          ]
        }
      ],
      "source": [
        "from ast import pattern\n",
        "import re\n",
        "def true_email(email):\n",
        "  pattern = r'^[a-zA-Z0-9_.+-]+@[a-zA-Z0-9-]+\\.[a-zA-Z0-9-.]+$'\n",
        "  if re.match(pattern, email):\n",
        "    return True\n",
        "\n",
        "print(true_email(\"romina_arab@ymail.com\"))\n",
        "email_address = \"romina_arab@ymail.com\"\n",
        "print(true_email(email_address))"
      ]
    }
  ],
  "metadata": {
    "kernelspec": {
      "display_name": "Python 3",
      "language": "python",
      "name": "python3"
    },
    "language_info": {
      "codemirror_mode": {
        "name": "ipython",
        "version": 3
      },
      "file_extension": ".py",
      "mimetype": "text/x-python",
      "name": "python",
      "nbconvert_exporter": "python",
      "pygments_lexer": "ipython3",
      "version": "3.8.5"
    },
    "colab": {
      "provenance": []
    }
  },
  "nbformat": 4,
  "nbformat_minor": 5
}