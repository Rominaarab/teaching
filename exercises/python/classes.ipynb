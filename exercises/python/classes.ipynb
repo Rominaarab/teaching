{
  "cells": [
    {
      "cell_type": "markdown",
      "id": "isolated-catholic",
      "metadata": {
        "id": "isolated-catholic"
      },
      "source": [
        "# Classes"
      ]
    },
    {
      "cell_type": "markdown",
      "id": "valuable-coupon",
      "metadata": {
        "id": "valuable-coupon"
      },
      "source": [
        "## Course Class\n",
        "Define a course class with the followings:\n",
        "- A `code` attribute.\n",
        "- A `name` attribute.\n",
        "- A `credits` attribute.\n",
        "- A `semester` attribute.\n",
        "- An `instructor` attribute.\n",
        "- An `__init__` method.\n",
        "- A `__str__` method."
      ]
    },
    {
      "cell_type": "code",
      "execution_count": 2,
      "id": "e6eee1fd",
      "metadata": {
        "id": "e6eee1fd",
        "outputId": "293044d4-c61f-4929-a7b0-47db991dc5ba",
        "colab": {
          "base_uri": "https://localhost:8080/"
        }
      },
      "outputs": [
        {
          "output_type": "stream",
          "name": "stdout",
          "text": [
            "code: M504B\n",
            "name: AI and Applications\n",
            "credits: 30\n",
            "semester: W2024\n",
            "instructor: W.Mouris\n"
          ]
        }
      ],
      "source": [
        "class course:\n",
        "  def __init__ (self, code, name, credits, semester, instructor):\n",
        "    self.code = code\n",
        "    self.name = name\n",
        "    self.credits = credits\n",
        "    self.semester = semester\n",
        "    self.instructor = instructor\n",
        "\n",
        "  def __str__(self):\n",
        "    return (f\"code: {self.code}\\n\"\n",
        "            f\"name: {self.name}\\n\"\n",
        "            f\"credits: {self.credits}\\n\"\n",
        "            f\"semester: {self.semester}\\n\"\n",
        "            f\"instructor: {self.instructor}\")\n",
        "Course = course(\"M504B\", \"AI and Applications\", 30, \"W2024\", \"W.Mouris\")\n",
        "print(Course)"
      ]
    },
    {
      "cell_type": "markdown",
      "metadata": {
        "id": "8rDn1N_bG4O0"
      },
      "source": [
        "## Student Class\n",
        "Define a student class with the followings:\n",
        "- A `first_name` attribute.\n",
        "- A `last_name` attribute.\n",
        "- An `number` attribute.\n",
        "- A `courses` attribute that stores a dictionary of passed **course objects** and their mark.\n",
        "- An `__init__` method.\n",
        "- A `__str__` method.\n",
        "- A `get_gpa` method.\n",
        "- A `set_course_mark` method."
      ],
      "id": "8rDn1N_bG4O0"
    },
    {
      "cell_type": "code",
      "execution_count": 6,
      "id": "according-purse",
      "metadata": {
        "id": "according-purse"
      },
      "outputs": [],
      "source": [
        "class student:\n",
        "  def __init__ (self, first_name, last_name, number):\n",
        "    self.first_name = first_name\n",
        "    self.last_name = last_name\n",
        "    self.number = number\n",
        "    self.course = {}\n",
        "  def __str__(self):\n",
        "    course_info = \"\\n\".join([f\"{course.name}: {mark}\" for course, mark in self.course.items()])\n",
        "    return (f\"student: {self.first_name} {self.last_name}\\n\"\n",
        "            f\"Student number: {self.number}\\n\"\n",
        "            f\"Courses and Marks: {course_info}\")\n",
        "    def get_gpa (self):\n",
        "      if not self.course:\n",
        "        return 0.0\n",
        "        total_credit = sum(course.credits for course in self.course.keys())\n",
        "        weighted_sum = sum(course.credits * mark for course, mark in self.course.items())\n",
        "        return weighted_sum / total_credit\n",
        "    def set_course_mark(self, course, mark):\n",
        "        if not isinstance(course, Course):\n",
        "            raise ValueError(\"Invalid course object.\")\n",
        "        if not (0 <= mark <= 100):\n",
        "            raise ValueError(\"Mark must be between 0 and 100.\")\n",
        "        self.courses[course] = mark\n",
        "\n",
        "course1 = course(\"CS101\", \"Introduction to Computer Science\", 3, \"Fall 2023\", \"Dr. Smith\")\n",
        "course2 = course(\"MATH101\", \"Calculus I\", 4, \"Fall 2023\", \"Prof. Johnson\")"
      ]
    },
    {
      "cell_type": "markdown",
      "id": "palestinian-expert",
      "metadata": {
        "id": "palestinian-expert"
      },
      "source": [
        "## University Class\n",
        "Define a university class with the followings:\n",
        "- A `name` attribute.\n",
        "- A `students` attribute that stores a list of **student objects**.\n",
        "- An `__init__` method.\n",
        "- A `__str__` method.\n",
        "- A `register_student` method.\n",
        "- A `graduate_student` method."
      ]
    },
    {
      "cell_type": "code",
      "execution_count": null,
      "id": "going-custom",
      "metadata": {
        "id": "going-custom"
      },
      "outputs": [],
      "source": []
    }
  ],
  "metadata": {
    "kernelspec": {
      "display_name": "Python 3",
      "language": "python",
      "name": "python3"
    },
    "language_info": {
      "codemirror_mode": {
        "name": "ipython",
        "version": 3
      },
      "file_extension": ".py",
      "mimetype": "text/x-python",
      "name": "python",
      "nbconvert_exporter": "python",
      "pygments_lexer": "ipython3",
      "version": "3.8.5"
    },
    "colab": {
      "provenance": []
    }
  },
  "nbformat": 4,
  "nbformat_minor": 5
}