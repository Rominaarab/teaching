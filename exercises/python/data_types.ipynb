{
  "cells": [
    {
      "cell_type": "markdown",
      "id": "novel-stream",
      "metadata": {
        "id": "novel-stream"
      },
      "source": [
        "# Data Types"
      ]
    },
    {
      "cell_type": "markdown",
      "id": "finite-albania",
      "metadata": {
        "id": "finite-albania"
      },
      "source": [
        "## Remove Vowels\n",
        "Write a Python program that takes a string, makes the character lowercase, removes its vowel characters (`\"a\"`, `\"e\"`, `\"i\"`, `\"o\"`, and `\"u\"`) and prints the result. For example, given the string `\"Hello\"`, the program should print `\"hll\"`."
      ]
    },
    {
      "cell_type": "code",
      "source": [
        "# make  tring\n",
        "\n",
        "#lower case\n"
      ],
      "metadata": {
        "id": "_05u8KpwuVIp"
      },
      "id": "_05u8KpwuVIp",
      "execution_count": null,
      "outputs": []
    },
    {
      "cell_type": "code",
      "execution_count": 3,
      "id": "human-century",
      "metadata": {
        "id": "human-century",
        "outputId": "0b1406ae-51af-4887-ba92-165c5f64cd0f",
        "colab": {
          "base_uri": "https://localhost:8080/"
        }
      },
      "outputs": [
        {
          "output_type": "stream",
          "name": "stdout",
          "text": [
            "Please enter a wordHello ROMINA ITS ME FROM DEUTSCHLAND\n",
            "hll rmn ts m frm dtschlnd\n"
          ]
        }
      ],
      "source": [
        "word = input(\"Please enter a word\")\n",
        "word = word.lower()\n",
        "word = word.replace(\"a\" , \"\")\n",
        "word = word.replace(\"e\" , \"\")\n",
        "word = word.replace(\"i\" , \"\")\n",
        "word = word.replace(\"o\" , \"\")\n",
        "word = word.replace(\"u\" , \"\")\n",
        "print(word)"
      ]
    },
    {
      "cell_type": "markdown",
      "id": "formed-candy",
      "metadata": {
        "id": "formed-candy"
      },
      "source": [
        "## Reverse the Words\n",
        "Write a Python program that takes a string containing some words that are separeted with whitespace, reverses the words in the string, and prints the result. For example, given the string `\"hello how are you\"`, the program should print `\"you are how hello\"`."
      ]
    },
    {
      "cell_type": "code",
      "execution_count": 25,
      "id": "forward-berry",
      "metadata": {
        "id": "forward-berry",
        "outputId": "a1bb3b43-a1c7-4fb4-f8b4-7949f1c86046",
        "colab": {
          "base_uri": "https://localhost:8080/"
        }
      },
      "outputs": [
        {
          "output_type": "stream",
          "name": "stdout",
          "text": [
            "['hello', 'how', 'are', 'you']\n",
            "['you', 'are', 'how', 'hello']\n"
          ]
        }
      ],
      "source": [
        "#string \"hello how are you\"\n",
        "my_string = \"hello how are you\"\n",
        "#make my sentence as a list\n",
        "#letter = print(my_string.split()) with this code I would have a list with ',' separation\n",
        "#print(type(my_string.split()))\n",
        "letter = my_string.split(\" \")\n",
        "print(letter)\n",
        "print(letter[::-1])\n"
      ]
    },
    {
      "cell_type": "markdown",
      "id": "after-radius",
      "metadata": {
        "id": "after-radius"
      },
      "source": [
        "## Count Common Elements of 2 Lists\n",
        "Write a Python program that prints the number of common elements in two given lists. For example, given `[1, 2, 3]` and `[5, 1, 3]`, the program should print 2."
      ]
    },
    {
      "cell_type": "code",
      "execution_count": 30,
      "id": "adverse-berkeley",
      "metadata": {
        "id": "adverse-berkeley",
        "outputId": "8730928a-fa72-45c1-9b4d-a6e17cc74bf9",
        "colab": {
          "base_uri": "https://localhost:8080/"
        }
      },
      "outputs": [
        {
          "output_type": "stream",
          "name": "stdout",
          "text": [
            "2\n"
          ]
        }
      ],
      "source": [
        "my_list = [[1, 2, 3],[5, 1, 3]]\n",
        "print(len(my_list))"
      ]
    },
    {
      "cell_type": "markdown",
      "id": "secret-theme",
      "metadata": {
        "id": "secret-theme"
      },
      "source": [
        "## Print Sorted Unique Words\n",
        "Write a Python program that takes a string containing some words that are separeted with whitespace, removes all duplicate words, sorts the remaining words alphanumerically, and prints the result. For example, given the string `\"hello world and practice makes perfect and hello world again\"`, the program should print `\"again and hello makes perfect practice world\"`."
      ]
    },
    {
      "cell_type": "code",
      "execution_count": 5,
      "id": "requested-rapid",
      "metadata": {
        "id": "requested-rapid",
        "outputId": "fac8564a-3201-4c7b-f5f3-cbda2459e1b3",
        "colab": {
          "base_uri": "https://localhost:8080/"
        }
      },
      "outputs": [
        {
          "output_type": "stream",
          "name": "stdout",
          "text": [
            "Duplicates removed:  ['practice', 'makes', 'perfect', 'and', 'hello', 'world', 'again']\n",
            "Duplicates removed type:  <class 'list'>\n"
          ]
        }
      ],
      "source": [
        "from os import remove\n",
        "from collections import Counter\n",
        "#write my sentence\n",
        "my_sentence = \"hello world and practice makes perfect and hello world again\"\n",
        "#print(my_sentence)\n",
        "\n",
        "# make it as a list\n",
        "my_list = my_sentence.split()\n",
        "#print(my_list)\n",
        "\n",
        "#remove duplicates\n",
        "for x in my_list:\n",
        "  if my_list.count(x) > 1:\n",
        "      my_list.remove(x)\n",
        "      #print(my_list)\n",
        "\n",
        "print(\"Duplicates removed: \", my_list)\n",
        "print(\"Duplicates removed type: \", type(my_list))\n",
        "\n",
        "\n",
        "# Sort the list\n",
        "my_list.sort(reverse=True)"
      ]
    },
    {
      "cell_type": "code",
      "source": [
        "another_list = [\"b\",\"a\",\"c\"]\n",
        "\n",
        "sorted(another_list)\n"
      ],
      "metadata": {
        "id": "zm8iEubVLwWk",
        "outputId": "fe99332e-d8e5-4f28-84e7-d4927edfa5e3",
        "colab": {
          "base_uri": "https://localhost:8080/"
        }
      },
      "id": "zm8iEubVLwWk",
      "execution_count": 12,
      "outputs": [
        {
          "output_type": "execute_result",
          "data": {
            "text/plain": [
              "['a', 'b', 'c']"
            ]
          },
          "metadata": {},
          "execution_count": 12
        }
      ]
    },
    {
      "cell_type": "markdown",
      "id": "satellite-residence",
      "metadata": {
        "id": "satellite-residence"
      },
      "source": [
        "## Convert a List of Integers to an Integer\n",
        "Write a Python program to convert a given list of integers to an integer. For example, given `[11, 2, 54]`, the program should assign 11254 into an integer variable."
      ]
    },
    {
      "cell_type": "code",
      "execution_count": null,
      "id": "excessive-spectrum",
      "metadata": {
        "id": "excessive-spectrum"
      },
      "outputs": [],
      "source": []
    }
  ],
  "metadata": {
    "kernelspec": {
      "display_name": "Python 3",
      "language": "python",
      "name": "python3"
    },
    "language_info": {
      "codemirror_mode": {
        "name": "ipython",
        "version": 3
      },
      "file_extension": ".py",
      "mimetype": "text/x-python",
      "name": "python",
      "nbconvert_exporter": "python",
      "pygments_lexer": "ipython3",
      "version": "3.8.5"
    },
    "colab": {
      "provenance": []
    }
  },
  "nbformat": 4,
  "nbformat_minor": 5
}