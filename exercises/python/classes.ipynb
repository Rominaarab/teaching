{
  "cells": [
    {
      "cell_type": "markdown",
      "id": "isolated-catholic",
      "metadata": {
        "id": "isolated-catholic"
      },
      "source": [
        "# Classes"
      ]
    },
    {
      "cell_type": "markdown",
      "id": "valuable-coupon",
      "metadata": {
        "id": "valuable-coupon"
      },
      "source": [
        "## Course Class\n",
        "Define a course class with the followings:\n",
        "- A `code` attribute.\n",
        "- A `name` attribute.\n",
        "- A `credits` attribute.\n",
        "- A `semester` attribute.\n",
        "- An `instructor` attribute.\n",
        "- An `__init__` method.\n",
        "- A `__str__` method."
      ]
    },
    {
      "cell_type": "code",
      "source": [
        "class Course:\n",
        "  def __init__ (self, code, name, credits, semester, instructor):\n",
        "    self.code = code\n",
        "    self.name = name\n",
        "    self.credits = credits\n",
        "    self.semester = semester\n",
        "    self.instructor = instructor\n",
        "  def __str__ (self):\n",
        "     return(f\"Course code: {self.code}\\n\"\n",
        "            f\"name: {self.name}\\n\"\n",
        "            f\"credits: {self.credits}\\n\"\n",
        "            f\"semester: {self.semester}\\n\"\n",
        "            f\"instructor: {self.instructor}\")\n",
        "course = Course(\"M504B\", \"Romina Arab\", \"90\", \"Winter 2024\", \"William Baker Morrison\")\n",
        "print(course)"
      ],
      "metadata": {
        "id": "x3OAbFmK7B49",
        "outputId": "5646fe7e-63d0-40bc-d2dc-cd50b19c22ce",
        "colab": {
          "base_uri": "https://localhost:8080/"
        }
      },
      "id": "x3OAbFmK7B49",
      "execution_count": 20,
      "outputs": [
        {
          "output_type": "stream",
          "name": "stdout",
          "text": [
            "Course code: M504B\n",
            "name: Romina Arab\n",
            "credits: 90\n",
            "semester: Winter 2024\n",
            "instructor: William Baker Morrison\n"
          ]
        }
      ]
    },
    {
      "cell_type": "markdown",
      "metadata": {
        "id": "DQXYV21Wqfzh"
      },
      "source": [
        "## Student Class\n",
        "Define a student class with the followings:\n",
        "- A `first_name` attribute.\n",
        "- A `last_name` attribute.\n",
        "- An `number` attribute.\n",
        "- A `courses` attribute that stores a dictionary of passed **course objects** and their mark.\n",
        "- An `__init__` method.\n",
        "- A `__str__` method.\n",
        "- A `get_gpa` method.\n",
        "- A `set_course_mark` method."
      ],
      "id": "DQXYV21Wqfzh"
    },
    {
      "cell_type": "code",
      "execution_count": null,
      "id": "according-purse",
      "metadata": {
        "id": "according-purse"
      },
      "outputs": [],
      "source": [
        "class student:\n",
        "  def __init__ (self, first_name, last_name, number):\n",
        "    self.first_name = first_name\n",
        "    self.last_name = last_name\n",
        "    self.number = number\n",
        "    self.Course = {}\n",
        "  def __str__(self):\n",
        "    Course_info = \"\\n\".join([f\"{Course.name}: {mark}\" for Course, mark in self.Course.items()])\n",
        ""
      ]
    },
    {
      "cell_type": "markdown",
      "id": "palestinian-expert",
      "metadata": {
        "id": "palestinian-expert"
      },
      "source": [
        "## University Class\n",
        "Define a university class with the followings:\n",
        "- A `name` attribute.\n",
        "- A `students` attribute that stores a list of **student objects**.\n",
        "- An `__init__` method.\n",
        "- A `__str__` method.\n",
        "- A `register_student` method.\n",
        "- A `graduate_student` method."
      ]
    },
    {
      "cell_type": "code",
      "execution_count": null,
      "id": "going-custom",
      "metadata": {
        "id": "going-custom"
      },
      "outputs": [],
      "source": []
    }
  ],
  "metadata": {
    "kernelspec": {
      "display_name": "Python 3",
      "language": "python",
      "name": "python3"
    },
    "language_info": {
      "codemirror_mode": {
        "name": "ipython",
        "version": 3
      },
      "file_extension": ".py",
      "mimetype": "text/x-python",
      "name": "python",
      "nbconvert_exporter": "python",
      "pygments_lexer": "ipython3",
      "version": "3.8.5"
    },
    "colab": {
      "provenance": []
    }
  },
  "nbformat": 4,
  "nbformat_minor": 5
}