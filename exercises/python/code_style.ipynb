{
  "cells": [
    {
      "cell_type": "markdown",
      "id": "isolated-catholic",
      "metadata": {
        "id": "isolated-catholic"
      },
      "source": [
        "# Code Style\n",
        "You should clean up the code according to PEP 8 guidelines. In particular, you should make sure that\n",
        "- class names are in CamelCase.\n",
        "- variable and function names are in lowercase, with words separated by underscores.\n",
        "- there are proper spaces around operators and function arguments.\n",
        "- the code is appropriately indented.\n",
        "- docstrings are included for the class and methods to provide clear documentation."
      ]
    },
    {
      "cell_type": "markdown",
      "id": "be7d31a9",
      "metadata": {
        "id": "be7d31a9"
      },
      "source": [
        "## Circle Class"
      ]
    },
    {
      "cell_type": "code",
      "execution_count": null,
      "id": "e6eee1fd",
      "metadata": {
        "id": "e6eee1fd"
      },
      "outputs": [],
      "source": [
        "Pi = 3.14\n",
        "class CIRCLE:\n",
        "    def __init__(Self, RADIUS):\n",
        "        Self.Radius = RADIUS\n",
        "    @property\n",
        "    def AREA(Self):\n",
        "        return (Self.Radius **2) * Pi\n",
        "    @property\n",
        "    def PERIMETER(Self):\n",
        "        return 2 * Self.Radius * Pi\n",
        "SmallCIRCLE = CIRCLE(1)\n",
        "BigCIRCLE = CIRCLE(5)\n",
        "print(f\"Area of small circle = {SmallCIRCLE.AREA}\")\n",
        "print(f\"Perimeter of small circle = {SmallCIRCLE.PERIMETER}\")\n",
        "print(f\"Area of big circle = {BigCIRCLE.AREA}\")\n",
        "print(f\"Perimeter of big circle = {BigCIRCLE.PERIMETER}\")"
      ]
    },
    {
      "cell_type": "code",
      "execution_count": 4,
      "id": "2f170a2a",
      "metadata": {
        "id": "2f170a2a",
        "outputId": "a60b61e7-6458-4ba3-c90f-9bea09b7d3dc",
        "colab": {
          "base_uri": "https://localhost:8080/"
        }
      },
      "outputs": [
        {
          "output_type": "stream",
          "name": "stdout",
          "text": [
            "Area of small circle = 3.14\n",
            "Perimeter of small circle = 6.28\n",
            "Area of big circle = 78.5\n",
            "Perimeter of big circle = 31.400000000000002\n"
          ]
        }
      ],
      "source": [
        "PI = 3.14\n",
        "class Circle:\n",
        "    def __init__(self, radius):\n",
        "        self.radius = radius\n",
        "    @property\n",
        "    def area(self):\n",
        "        return (self.radius **2) * PI\n",
        "    @property\n",
        "    def perimete(self):\n",
        "        return 2 * self.radius * PI\n",
        "Small_CIRCLE = Circle(1)\n",
        "BigCIR_CLE = Circle(5)\n",
        "print(f\"Area of small circle = {Small_CIRCLE.area}\")\n",
        "print(f\"Perimeter of small circle = {Small_CIRCLE.perimete}\")\n",
        "print(f\"Area of big circle = {BigCIR_CLE.area}\")\n",
        "print(f\"Perimeter of big circle = {BigCIR_CLE.perimete}\")"
      ]
    },
    {
      "cell_type": "markdown",
      "id": "fbed88d4",
      "metadata": {
        "id": "fbed88d4"
      },
      "source": [
        "## Animal Class"
      ]
    },
    {
      "cell_type": "code",
      "execution_count": 6,
      "id": "going-custom",
      "metadata": {
        "id": "going-custom",
        "outputId": "408e34a2-cdb5-4029-ee17-20c9f5d734b1",
        "colab": {
          "base_uri": "https://localhost:8080/"
        }
      },
      "outputs": [
        {
          "output_type": "stream",
          "name": "stdout",
          "text": [
            "Name: Tom\n",
            "Type: cat\n",
            "Age: 3\n",
            "Unknown Animal type.\n"
          ]
        }
      ],
      "source": [
        "class Animal:\n",
        "    def __init__(self, name, animal_type, age):\n",
        "        self.name = name\n",
        "        self.animal_type = animal_type\n",
        "        self.age = age\n",
        "    def get_name(self):\n",
        "        return self.name\n",
        "    def get_type(self):\n",
        "        return self.animal_type\n",
        "    def get_age(self):\n",
        "        return self.age\n",
        "    def speak(self):\n",
        "        if self.animal_type.lower() == \"CAT\":\n",
        "            print(\"Meow!\")\n",
        "        elif self.animal_type.lower() == \"DOG\":\n",
        "            print(\"Woof!\")\n",
        "        else:\n",
        "            print(\"Unknown Animal type.\")\n",
        "def main():\n",
        "    my_animal = Animal(\"Tom\", \"cat\", 3)\n",
        "    print(\"Name:\", my_animal.get_name())\n",
        "    print(\"Type:\", my_animal.get_type())\n",
        "    print(\"Age:\", my_animal.get_age())\n",
        "    my_animal.speak()\n",
        "if __name__ == \"__main__\":\n",
        "    main()"
      ]
    }
  ],
  "metadata": {
    "kernelspec": {
      "display_name": "Python 3",
      "language": "python",
      "name": "python3"
    },
    "language_info": {
      "codemirror_mode": {
        "name": "ipython",
        "version": 3
      },
      "file_extension": ".py",
      "mimetype": "text/x-python",
      "name": "python",
      "nbconvert_exporter": "python",
      "pygments_lexer": "ipython3",
      "version": "3.11.2"
    },
    "colab": {
      "provenance": []
    }
  },
  "nbformat": 4,
  "nbformat_minor": 5
}