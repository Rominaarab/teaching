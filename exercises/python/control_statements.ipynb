{
  "cells": [
    {
      "cell_type": "markdown",
      "id": "broad-significance",
      "metadata": {
        "id": "broad-significance"
      },
      "source": [
        "# Control Statements"
      ]
    },
    {
      "cell_type": "markdown",
      "id": "mighty-picnic",
      "metadata": {
        "id": "mighty-picnic"
      },
      "source": [
        "## Check 2 Numbers are Dividable\n",
        "Write a Python prgoram that takes 2 numbers and prints whether the first one is dividable by the second one or not. For example, if the user inputs 10 and 5, the program should print `\"10 is dividable by 5\"`."
      ]
    },
    {
      "cell_type": "code",
      "execution_count": null,
      "id": "everyday-league",
      "metadata": {
        "id": "everyday-league"
      },
      "outputs": [],
      "source": []
    },
    {
      "cell_type": "markdown",
      "id": "certified-smell",
      "metadata": {
        "id": "certified-smell"
      },
      "source": [
        "## Check a Website Address Has .com\n",
        "Write a Python program that takes a website address and prints out whether it ends with `.com` or not. For example, given the string `\"www.google.com\"`, the program should print `\"www.google.com ends with .com\"`."
      ]
    },
    {
      "cell_type": "code",
      "execution_count": null,
      "id": "framed-index",
      "metadata": {
        "id": "framed-index"
      },
      "outputs": [],
      "source": []
    },
    {
      "cell_type": "markdown",
      "id": "lonely-hollow",
      "metadata": {
        "id": "lonely-hollow"
      },
      "source": [
        "## Remove Non-String List Elements\n",
        "Write a Python program that takes a list and create another list that only contains string elements of the first list. For example, given the list `[1, \"hello\", 4.3, True, \"bye\"]`, the program should define a list `[\"hello\", \"bye\"]`."
      ]
    },
    {
      "cell_type": "code",
      "execution_count": null,
      "id": "compound-commissioner",
      "metadata": {
        "id": "compound-commissioner"
      },
      "outputs": [],
      "source": []
    },
    {
      "cell_type": "markdown",
      "id": "conceptual-lobby",
      "metadata": {
        "id": "conceptual-lobby"
      },
      "source": [
        "## Compare Numbers\n",
        "Write a Python program that takes an integer, compares it to a predefined number, and tells the user to guess a larger or smaller number. For example, suppose the predefined number is 10 and the user inputs 7. The program should print `\"7 is too small!\"`."
      ]
    },
    {
      "cell_type": "code",
      "execution_count": null,
      "id": "religious-leonard",
      "metadata": {
        "id": "religious-leonard"
      },
      "outputs": [],
      "source": []
    },
    {
      "cell_type": "markdown",
      "id": "gorgeous-knitting",
      "metadata": {
        "id": "gorgeous-knitting"
      },
      "source": [
        "## Sum Even Numbers\n",
        "Write a Python program that computes the sum of even numbers in a given list of integers."
      ]
    },
    {
      "cell_type": "code",
      "execution_count": null,
      "id": "artificial-professor",
      "metadata": {
        "id": "artificial-professor"
      },
      "outputs": [],
      "source": []
    },
    {
      "cell_type": "markdown",
      "id": "e3044c58",
      "metadata": {
        "id": "e3044c58"
      },
      "source": [
        "## Find All Divisors\n",
        "Write a Python prgoram that find all divisors of a given positive integer and store them in a list. For example, given 10, the resulting list should be `[1, 2, 5, 10]`."
      ]
    },
    {
      "cell_type": "code",
      "execution_count": null,
      "id": "9bee6850",
      "metadata": {
        "id": "9bee6850"
      },
      "outputs": [],
      "source": []
    },
    {
      "cell_type": "markdown",
      "id": "41b462e9",
      "metadata": {
        "id": "41b462e9"
      },
      "source": [
        "## Find the Largest Word\n",
        "Write a Python program that finds the largest word in a given input string. For example, given the string `\"hello how are you\"`, the program should print `\"hello\"`."
      ]
    },
    {
      "cell_type": "code",
      "execution_count": null,
      "id": "13037cad",
      "metadata": {
        "id": "13037cad"
      },
      "outputs": [],
      "source": []
    },
    {
      "cell_type": "markdown",
      "id": "3b71775e",
      "metadata": {
        "id": "3b71775e"
      },
      "source": [
        "## Count the Frequency of List Elements\n",
        "Write a Python program that counts the frequency of each element in a given list and store them in a dictionary. For example, given the list `[111, \"hello\", 222, \"hello\", 111]`, the program should define a dictionary `{111: 2, \"hello\": 2, 222: 1}`."
      ]
    },
    {
      "cell_type": "code",
      "source": [
        "from collections import Counter\n",
        "items = [111, \"hello\", 222, \"hello\", 111]\n",
        "frequeuncy = Counter (items)\n",
        "print(frequeuncy)"
      ],
      "metadata": {
        "id": "up38u2mhBouO",
        "outputId": "65717c6d-75aa-414f-e01d-1698b286f67c",
        "colab": {
          "base_uri": "https://localhost:8080/"
        }
      },
      "id": "up38u2mhBouO",
      "execution_count": 4,
      "outputs": [
        {
          "output_type": "stream",
          "name": "stdout",
          "text": [
            "Counter({111: 2, 'hello': 2, 222: 1})\n"
          ]
        }
      ]
    },
    {
      "cell_type": "code",
      "source": [
        "from math import sin, cos, tan, pi\n",
        "\n",
        "sin(pi / 2)"
      ],
      "metadata": {
        "id": "nNrwTLKw1Dm_",
        "outputId": "0ae2f1ab-dfb5-4e27-bfb7-0e6831aca8b8",
        "colab": {
          "base_uri": "https://localhost:8080/"
        }
      },
      "id": "nNrwTLKw1Dm_",
      "execution_count": 70,
      "outputs": [
        {
          "output_type": "execute_result",
          "data": {
            "text/plain": [
              "1.0"
            ]
          },
          "metadata": {},
          "execution_count": 70
        }
      ]
    },
    {
      "cell_type": "code",
      "source": [
        "def greeting():\n",
        "  print(\"Hello class.\")\n",
        "  print(\"hello world!\")\n",
        "  print(\"hello gisma\")\n",
        "  \"\"\" Definition \"\"\""
      ],
      "metadata": {
        "id": "vxxcbYOig6To"
      },
      "id": "vxxcbYOig6To",
      "execution_count": 3,
      "outputs": []
    },
    {
      "cell_type": "code",
      "source": [
        "greeting()"
      ],
      "metadata": {
        "id": "17PX41YrhSag",
        "outputId": "8c59f135-6200-4ad0-bd0d-92953e3b4286",
        "colab": {
          "base_uri": "https://localhost:8080/"
        }
      },
      "id": "17PX41YrhSag",
      "execution_count": 4,
      "outputs": [
        {
          "output_type": "stream",
          "name": "stdout",
          "text": [
            "Hello class.\n",
            "hello world!\n",
            "hello gisma\n"
          ]
        }
      ]
    },
    {
      "cell_type": "code",
      "source": [
        "n = int (input(\"please enter an integer\"))\n",
        "\n",
        "f = 1\n",
        "for i in range (1, n+1):\n",
        "  f *= i\n",
        "print(f)"
      ],
      "metadata": {
        "id": "DJ1w-r3nikaW",
        "outputId": "d16e2d03-66db-4d4e-da82-7ecf9095d950",
        "colab": {
          "base_uri": "https://localhost:8080/"
        }
      },
      "id": "DJ1w-r3nikaW",
      "execution_count": 7,
      "outputs": [
        {
          "output_type": "stream",
          "name": "stdout",
          "text": [
            "please enter an integer6\n",
            "720\n"
          ]
        }
      ]
    },
    {
      "cell_type": "code",
      "source": [
        "def fact(n):\n",
        "  \"\"\"\n",
        "  this function calculate factoriel of a given nargument.\n",
        "  input : n (should)\n",
        "  \"\"\"\n",
        "  n = int(n)\n",
        "  if n < 0:\n",
        "    return None\n",
        "  f = 1\n",
        "  for i in range(1, n+1):\n",
        "      f *= i\n",
        "  return f"
      ],
      "metadata": {
        "id": "N50J6Up3kH06"
      },
      "id": "N50J6Up3kH06",
      "execution_count": 31,
      "outputs": []
    },
    {
      "cell_type": "code",
      "source": [
        "a = fact(6)\n",
        "print(a)"
      ],
      "metadata": {
        "id": "AfjWF3egk6xR",
        "outputId": "6c776029-6c97-4e62-ee1a-79dc0aaf7368",
        "colab": {
          "base_uri": "https://localhost:8080/"
        }
      },
      "id": "AfjWF3egk6xR",
      "execution_count": 34,
      "outputs": [
        {
          "output_type": "stream",
          "name": "stdout",
          "text": [
            "720\n"
          ]
        }
      ]
    },
    {
      "cell_type": "code",
      "source": [
        "print(fib_sequance)"
      ],
      "metadata": {
        "id": "WTzDuCrypYcL",
        "outputId": "892948dd-de96-490e-e958-27cd9b0dcc9c",
        "colab": {
          "base_uri": "https://localhost:8080/",
          "height": 144
        }
      },
      "id": "WTzDuCrypYcL",
      "execution_count": 42,
      "outputs": [
        {
          "output_type": "error",
          "ename": "NameError",
          "evalue": "name 'fib_sequance' is not defined",
          "traceback": [
            "\u001b[0;31m---------------------------------------------------------------------------\u001b[0m",
            "\u001b[0;31mNameError\u001b[0m                                 Traceback (most recent call last)",
            "\u001b[0;32m<ipython-input-42-332cae1a38cc>\u001b[0m in \u001b[0;36m<cell line: 0>\u001b[0;34m()\u001b[0m\n\u001b[0;32m----> 1\u001b[0;31m \u001b[0mprint\u001b[0m\u001b[0;34m(\u001b[0m\u001b[0mfib_sequance\u001b[0m\u001b[0;34m)\u001b[0m\u001b[0;34m\u001b[0m\u001b[0;34m\u001b[0m\u001b[0m\n\u001b[0m",
            "\u001b[0;31mNameError\u001b[0m: name 'fib_sequance' is not defined"
          ]
        }
      ]
    },
    {
      "cell_type": "code",
      "source": [
        "n = int(input(\"please enter the index of fibonacci sequence:\"))\n",
        "fib_sequence = [0, 1]\n",
        "if n >= 2:\n",
        "  for i in range(2, n+1):\n",
        "    fib = fib_sequence[i - 1] + fib_sequence[i - 2]\n",
        "    fib_sequence.append(fib)\n",
        "elif n == 0 or n == 1:\n",
        "  fib_sequence = fib_sequence[:n+1]\n",
        "else:\n",
        "  fib_sequence = None\n",
        "\n",
        "print(fib_sequence)"
      ],
      "metadata": {
        "id": "pxz6r74np99D",
        "outputId": "35ded656-c202-4662-b9d6-2d245aa05ac5",
        "colab": {
          "base_uri": "https://localhost:8080/"
        }
      },
      "id": "pxz6r74np99D",
      "execution_count": 71,
      "outputs": [
        {
          "output_type": "stream",
          "name": "stdout",
          "text": [
            "please enter the index of fibonacci sequence:10\n",
            "[0, 1, 1, 2, 3, 5, 8, 13, 21, 34, 55]\n"
          ]
        }
      ]
    },
    {
      "cell_type": "code",
      "source": [
        "def fib(n):\n",
        "  fib_sequence = [0, 1] # Changed to [0, 1] to represent the first two Fibonacci numbers\n",
        "  if n >= 2:\n",
        "    for i in range(2, n + 1):\n",
        "      fib = fib_sequence[i - 1] + fib_sequence[i - 2]\n",
        "      fib_sequence.append(fib)\n",
        "  elif n == 0 or n == 1:\n",
        "    fib_sequence = fib_sequence[:n+1]\n",
        "  else:\n",
        "    fib_sequence = None #[None]\n",
        "\n",
        "  return fib_sequence #[-1] # Return the last element (nth Fibonacci number)"
      ],
      "metadata": {
        "id": "tBEkzKdrrLtq"
      },
      "id": "tBEkzKdrrLtq",
      "execution_count": 79,
      "outputs": []
    },
    {
      "cell_type": "code",
      "source": [
        "fff = fib(-2)\n",
        "print(fff)"
      ],
      "metadata": {
        "id": "HseQq5ftr1Cn",
        "outputId": "a1bc896e-f5e9-46fd-88fb-e669177fbbd7",
        "colab": {
          "base_uri": "https://localhost:8080/"
        }
      },
      "id": "HseQq5ftr1Cn",
      "execution_count": 81,
      "outputs": [
        {
          "output_type": "stream",
          "name": "stdout",
          "text": [
            "None\n"
          ]
        }
      ]
    },
    {
      "cell_type": "code",
      "source": [
        "n = int(input(\"please enter the nidex of fibonacci sequence:\"))\n",
        "for i in range(n + 1):\n",
        "  print(fib(i))"
      ],
      "metadata": {
        "id": "KF2Sab4TvOwE",
        "outputId": "7b28674b-10b2-4348-ee39-9a4b7c5e4527",
        "colab": {
          "base_uri": "https://localhost:8080/"
        }
      },
      "id": "KF2Sab4TvOwE",
      "execution_count": 82,
      "outputs": [
        {
          "output_type": "stream",
          "name": "stdout",
          "text": [
            "please enter the nidex of fibonacci sequence:4\n",
            "0\n",
            "1\n",
            "1\n",
            "2\n",
            "3\n"
          ]
        }
      ]
    },
    {
      "cell_type": "code",
      "source": [
        "fib_lst = []\n",
        "n = int(input(\"please enter the nidex of fibonacci sequence:\"))\n",
        "for i in range(n + 1):\n",
        "  fib_lst.append\n",
        "  print(fib(i))\n"
      ],
      "metadata": {
        "id": "j1XXNySavy7i",
        "outputId": "ea21b3de-a2e0-4145-c261-02f64f718f5c",
        "colab": {
          "base_uri": "https://localhost:8080/"
        }
      },
      "id": "j1XXNySavy7i",
      "execution_count": 67,
      "outputs": [
        {
          "output_type": "stream",
          "name": "stdout",
          "text": [
            "please enter the nidex of fibonacci sequence:4\n",
            "0\n",
            "1\n",
            "1\n",
            "2\n",
            "3\n"
          ]
        }
      ]
    },
    {
      "cell_type": "code",
      "source": [
        "def fact(6):\n",
        "  \"\"\"\n",
        "  this function calculate factoriel of a given nargument.\n",
        "  input : n (should)\n",
        "  \"\"\"\n",
        "  n = int(n)\n",
        "  if n < 0:\n",
        "    return None\n",
        "  f = 1\n",
        "  for i in range(1, n+1):\n",
        "      f *= i\n",
        "  return f"
      ],
      "metadata": {
        "id": "J7yDtok54-5m",
        "outputId": "6ccb04b8-ef5f-4c9f-88ef-72e572f89d50",
        "colab": {
          "base_uri": "https://localhost:8080/",
          "height": 108
        }
      },
      "id": "J7yDtok54-5m",
      "execution_count": 84,
      "outputs": [
        {
          "output_type": "error",
          "ename": "SyntaxError",
          "evalue": "invalid syntax (<ipython-input-84-d39e19df7f7e>, line 1)",
          "traceback": [
            "\u001b[0;36m  File \u001b[0;32m\"<ipython-input-84-d39e19df7f7e>\"\u001b[0;36m, line \u001b[0;32m1\u001b[0m\n\u001b[0;31m    def fact(6):\u001b[0m\n\u001b[0m             ^\u001b[0m\n\u001b[0;31mSyntaxError\u001b[0m\u001b[0;31m:\u001b[0m invalid syntax\n"
          ]
        }
      ]
    },
    {
      "cell_type": "code",
      "source": [
        "fact()"
      ],
      "metadata": {
        "id": "GMlMXH9v5E9N",
        "outputId": "19987354-10e7-4c8d-ca62-ff4163f99a2c",
        "colab": {
          "base_uri": "https://localhost:8080/",
          "height": 144
        }
      },
      "id": "GMlMXH9v5E9N",
      "execution_count": 83,
      "outputs": [
        {
          "output_type": "error",
          "ename": "TypeError",
          "evalue": "fact() missing 1 required positional argument: 'n'",
          "traceback": [
            "\u001b[0;31m---------------------------------------------------------------------------\u001b[0m",
            "\u001b[0;31mTypeError\u001b[0m                                 Traceback (most recent call last)",
            "\u001b[0;32m<ipython-input-83-dfdad5886bf4>\u001b[0m in \u001b[0;36m<cell line: 0>\u001b[0;34m()\u001b[0m\n\u001b[0;32m----> 1\u001b[0;31m \u001b[0mfact\u001b[0m\u001b[0;34m(\u001b[0m\u001b[0;34m)\u001b[0m\u001b[0;34m\u001b[0m\u001b[0;34m\u001b[0m\u001b[0m\n\u001b[0m",
            "\u001b[0;31mTypeError\u001b[0m: fact() missing 1 required positional argument: 'n'"
          ]
        }
      ]
    },
    {
      "cell_type": "code",
      "source": [
        "def my_function(a=20, b=40, c=\"hello\"):\n",
        "    print(\"a=\", a)\n",
        "    print(\"b=\", b)\n",
        "    print(\"c=\", c)\n",
        "\n",
        "my_function()"
      ],
      "metadata": {
        "id": "AFTT_EyL5x8J",
        "outputId": "7b8c7eda-3c0c-47be-d5fb-ead78e1bab95",
        "colab": {
          "base_uri": "https://localhost:8080/"
        }
      },
      "id": "AFTT_EyL5x8J",
      "execution_count": 87,
      "outputs": [
        {
          "output_type": "stream",
          "name": "stdout",
          "text": [
            "a= 20\n",
            "b= 40\n",
            "c= hello\n"
          ]
        }
      ]
    },
    {
      "cell_type": "code",
      "source": [
        "def my_function(a=20, b=40, c=\"hello\"):\n",
        "    print(\"a=\", a)\n",
        "    print(\"b=\", b)\n",
        "    print(\"c=\", c)\n",
        "\n",
        "my_function(c=\"hello\", a = 100, b=0)"
      ],
      "metadata": {
        "id": "iP2PSse-6khr",
        "outputId": "bf4fd1ce-d9b1-470c-c92a-92d6d7cb3dab",
        "colab": {
          "base_uri": "https://localhost:8080/"
        }
      },
      "id": "iP2PSse-6khr",
      "execution_count": 94,
      "outputs": [
        {
          "output_type": "stream",
          "name": "stdout",
          "text": [
            "a= 100\n",
            "b= 0\n",
            "c= hello\n"
          ]
        }
      ]
    },
    {
      "cell_type": "code",
      "source": [
        "def greeter (*args):\n",
        "  print(type(args))\n",
        "greeter(\"lisa\", \"ali\", \"mohit\", \"marry\")"
      ],
      "metadata": {
        "id": "cs6_CZCk8DNS",
        "outputId": "8a15ed53-6857-473c-ce77-e525d9dda728",
        "colab": {
          "base_uri": "https://localhost:8080/"
        }
      },
      "id": "cs6_CZCk8DNS",
      "execution_count": 97,
      "outputs": [
        {
          "output_type": "stream",
          "name": "stdout",
          "text": [
            "<class 'tuple'>\n"
          ]
        }
      ]
    },
    {
      "cell_type": "code",
      "source": [
        "def greeter (*args):\n",
        "  for items in args:\n",
        "    print(items)\n",
        "greeter(\"lisa\", \"ali\", \"mohit\", \"marry\")"
      ],
      "metadata": {
        "id": "80k3X9wB8lYp",
        "outputId": "06b80e6a-51a8-4801-835b-08cee403fb70",
        "colab": {
          "base_uri": "https://localhost:8080/"
        }
      },
      "id": "80k3X9wB8lYp",
      "execution_count": 99,
      "outputs": [
        {
          "output_type": "stream",
          "name": "stdout",
          "text": [
            "lisa\n",
            "ali\n",
            "mohit\n",
            "marry\n"
          ]
        }
      ]
    }
  ],
  "metadata": {
    "kernelspec": {
      "display_name": "Python 3",
      "language": "python",
      "name": "python3"
    },
    "language_info": {
      "codemirror_mode": {
        "name": "ipython",
        "version": 3
      },
      "file_extension": ".py",
      "mimetype": "text/x-python",
      "name": "python",
      "nbconvert_exporter": "python",
      "pygments_lexer": "ipython3",
      "version": "3.8.5"
    },
    "colab": {
      "provenance": []
    }
  },
  "nbformat": 4,
  "nbformat_minor": 5
}