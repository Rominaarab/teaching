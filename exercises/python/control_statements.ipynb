{
  "cells": [
    {
      "cell_type": "markdown",
      "id": "broad-significance",
      "metadata": {
        "id": "broad-significance"
      },
      "source": [
        "# Control Statements"
      ]
    },
    {
      "cell_type": "markdown",
      "id": "mighty-picnic",
      "metadata": {
        "id": "mighty-picnic"
      },
      "source": [
        "## Check 2 Numbers are Dividable\n",
        "Write a Python prgoram that takes 2 numbers and prints whether the first one is dividable by the second one or not. For example, if the user inputs 10 and 5, the program should print `\"10 is dividable by 5\"`."
      ]
    },
    {
      "cell_type": "code",
      "execution_count": 21,
      "id": "everyday-league",
      "metadata": {
        "id": "everyday-league",
        "outputId": "5810509e-0938-44bc-ac44-20bf44f8dee5",
        "colab": {
          "base_uri": "https://localhost:8080/"
        }
      },
      "outputs": [
        {
          "output_type": "stream",
          "name": "stdout",
          "text": [
            "enter number a12\n",
            "enter number b5\n",
            "not dividable\n"
          ]
        }
      ],
      "source": [
        "#get an input\n",
        "a = int(input('enter number a'))\n",
        "b = int(input('enter number b'))\n",
        "if a%b==0:\n",
        "    print(a, \"is dividable by\", b)\n",
        "else:\n",
        "    print(\"not dividable\")\n",
        "#right the if condition"
      ]
    },
    {
      "cell_type": "markdown",
      "id": "certified-smell",
      "metadata": {
        "id": "certified-smell"
      },
      "source": [
        "## Check a Website Address Has .com\n",
        "Write a Python program that takes a website address and prints out whether it ends with `.com` or not. For example, given the string `\"www.google.com\"`, the program should print `\"www.google.com ends with .com\"`."
      ]
    },
    {
      "cell_type": "code",
      "execution_count": 30,
      "id": "framed-index",
      "metadata": {
        "id": "framed-index",
        "outputId": "dd7d1fc6-0997-4c44-80f1-385908d5d636",
        "colab": {
          "base_uri": "https://localhost:8080/"
        }
      },
      "outputs": [
        {
          "output_type": "stream",
          "name": "stdout",
          "text": [
            "enter your websitewww.google.de\n",
            "www.google.de doesn’t end with .com\n"
          ]
        }
      ],
      "source": [
        "#get an input\n",
        "#write an if condition\n",
        "website = input('enter your website')\n",
        "if website.endswith(\".com\"):\n",
        "    print(website, \"ends with .com\")\n",
        "else:\n",
        "    print(website, \"doesn’t end with .com\")\n"
      ]
    },
    {
      "cell_type": "markdown",
      "id": "lonely-hollow",
      "metadata": {
        "id": "lonely-hollow"
      },
      "source": [
        "## Remove Non-String List Elements\n",
        "Write a Python program that takes a list and create another list that only contains string elements of the first list. For example, given the list `[1, \"hello\", 4.3, True, \"bye\"]`, the program should define a list `[\"hello\", \"bye\"]`."
      ]
    },
    {
      "cell_type": "code",
      "execution_count": 61,
      "id": "compound-commissioner",
      "metadata": {
        "id": "compound-commissioner",
        "outputId": "6de7c924-5a1d-4d31-8c80-cea78bf84746",
        "colab": {
          "base_uri": "https://localhost:8080/"
        }
      },
      "outputs": [
        {
          "output_type": "stream",
          "name": "stdout",
          "text": [
            "enter your list: 1, \"hello\", 4.3, True, \"bye\"\n",
            "[' \"hello\"', ' True', ' \"bye\"']\n"
          ]
        }
      ],
      "source": [
        "from os import remove\n",
        "a = input('enter your list: ').split(',')\n",
        "result = []\n",
        "for item in a:\n",
        "  try:\n",
        "    float(item)\n",
        "  except ValueError:\n",
        "    if isinstance(item, str) or isinstance(item.bool):\n",
        "      result.append(item)\n",
        "print(result)"
      ]
    },
    {
      "cell_type": "code",
      "source": [
        "#[1, \"hello\", 4.3, True, \"bye\"]\n",
        "a = input('enter your list: ').split(',')\n",
        "result = []\n",
        "for item in a:\n",
        "  if not isinstance(item,(int,float)):\n",
        "    print(a)\n",
        ""
      ],
      "metadata": {
        "id": "VXc2Hrtc_Wbq",
        "outputId": "48bc6489-b3f5-41d6-bcdd-368b76e9211f",
        "colab": {
          "base_uri": "https://localhost:8080/"
        }
      },
      "id": "VXc2Hrtc_Wbq",
      "execution_count": 81,
      "outputs": [
        {
          "output_type": "stream",
          "name": "stdout",
          "text": [
            "enter your list: 1, \"hello\", 4.3, True, \"bye\"\n",
            "['1', ' \"hello\"', ' 4.3', ' True', ' \"bye\"']\n",
            "['1', ' \"hello\"', ' 4.3', ' True', ' \"bye\"']\n",
            "['1', ' \"hello\"', ' 4.3', ' True', ' \"bye\"']\n",
            "['1', ' \"hello\"', ' 4.3', ' True', ' \"bye\"']\n",
            "['1', ' \"hello\"', ' 4.3', ' True', ' \"bye\"']\n"
          ]
        }
      ]
    },
    {
      "cell_type": "markdown",
      "metadata": {
        "id": "1yLTrmfwyzO6"
      },
      "source": [
        "## Remove Non-String List Elements\n",
        "Write a Python program that takes a list and create another list that only contains string elements of the first list. For example, given the list `[1, \"hello\", 4.3, True, \"bye\"]`, the program should define a list `[\"hello\", \"bye\"]`."
      ],
      "id": "1yLTrmfwyzO6"
    },
    {
      "cell_type": "markdown",
      "id": "conceptual-lobby",
      "metadata": {
        "id": "conceptual-lobby"
      },
      "source": [
        "## Compare Numbers\n",
        "Write a Python program that takes an integer, compares it to a predefined number, and tells the user to guess a larger or smaller number. For example, suppose the predefined number is 10 and the user inputs 7. The program should print `\"7 is too small!\"`."
      ]
    },
    {
      "cell_type": "code",
      "execution_count": null,
      "id": "religious-leonard",
      "metadata": {
        "id": "religious-leonard"
      },
      "outputs": [],
      "source": []
    },
    {
      "cell_type": "markdown",
      "id": "gorgeous-knitting",
      "metadata": {
        "id": "gorgeous-knitting"
      },
      "source": [
        "## Sum Even Numbers\n",
        "Write a Python program that computes the sum of even numbers in a given list of integers."
      ]
    },
    {
      "cell_type": "code",
      "execution_count": null,
      "id": "artificial-professor",
      "metadata": {
        "id": "artificial-professor"
      },
      "outputs": [],
      "source": []
    },
    {
      "cell_type": "markdown",
      "id": "e3044c58",
      "metadata": {
        "id": "e3044c58"
      },
      "source": [
        "## Find All Divisors\n",
        "Write a Python prgoram that find all divisors of a given positive integer and store them in a list. For example, given 10, the resulting list should be `[1, 2, 5, 10]`."
      ]
    },
    {
      "cell_type": "code",
      "execution_count": null,
      "id": "9bee6850",
      "metadata": {
        "id": "9bee6850"
      },
      "outputs": [],
      "source": []
    },
    {
      "cell_type": "markdown",
      "id": "41b462e9",
      "metadata": {
        "id": "41b462e9"
      },
      "source": [
        "## Find the Largest Word\n",
        "Write a Python program that finds the largest word in a given input string. For example, given the string `\"hello how are you\"`, the program should print `\"hello\"`."
      ]
    },
    {
      "cell_type": "code",
      "execution_count": null,
      "id": "13037cad",
      "metadata": {
        "id": "13037cad"
      },
      "outputs": [],
      "source": []
    },
    {
      "cell_type": "markdown",
      "id": "3b71775e",
      "metadata": {
        "id": "3b71775e"
      },
      "source": [
        "## Count the Frequency of List Elements\n",
        "Write a Python program that counts the frequency of each element in a given list and store them in a dictionary. For example, given the list `[111, \"hello\", 222, \"hello\", 111]`, the program should define a dictionary `{111: 2, \"hello\": 2, 222: 1}`."
      ]
    },
    {
      "cell_type": "code",
      "execution_count": null,
      "id": "fdb69cdb",
      "metadata": {
        "id": "fdb69cdb"
      },
      "outputs": [],
      "source": []
    }
  ],
  "metadata": {
    "kernelspec": {
      "display_name": "Python 3",
      "language": "python",
      "name": "python3"
    },
    "language_info": {
      "codemirror_mode": {
        "name": "ipython",
        "version": 3
      },
      "file_extension": ".py",
      "mimetype": "text/x-python",
      "name": "python",
      "nbconvert_exporter": "python",
      "pygments_lexer": "ipython3",
      "version": "3.8.5"
    },
    "colab": {
      "provenance": []
    }
  },
  "nbformat": 4,
  "nbformat_minor": 5
}